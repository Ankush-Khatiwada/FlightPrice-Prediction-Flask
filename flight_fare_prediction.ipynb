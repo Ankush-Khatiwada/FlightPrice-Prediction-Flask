{
 "cells": [
  {
   "cell_type": "code",
   "execution_count": 9,
   "id": "ee0d3029",
   "metadata": {},
   "outputs": [
    {
     "name": "stdout",
     "output_type": "stream",
     "text": [
      "Requirement already satisfied: pillow in ./venv/lib/python3.8/site-packages (8.3.1)\r\n"
     ]
    }
   ],
   "source": [
    "!pip install pillow"
   ]
  },
  {
   "cell_type": "code",
   "execution_count": 10,
   "id": "72d26467",
   "metadata": {},
   "outputs": [
    {
     "ename": "ModuleNotFoundError",
     "evalue": "No module named 'PIL'",
     "output_type": "error",
     "traceback": [
      "\u001b[0;31m--------------------------------------------------------------\u001b[0m",
      "\u001b[0;31mModuleNotFoundError\u001b[0m          Traceback (most recent call last)",
      "\u001b[0;32m<ipython-input-10-f8a16859bc33>\u001b[0m in \u001b[0;36m<module>\u001b[0;34m\u001b[0m\n\u001b[1;32m      1\u001b[0m \u001b[0;32mimport\u001b[0m \u001b[0mpandas\u001b[0m \u001b[0;32mas\u001b[0m \u001b[0mpd\u001b[0m\u001b[0;34m\u001b[0m\u001b[0;34m\u001b[0m\u001b[0m\n\u001b[1;32m      2\u001b[0m \u001b[0;32mimport\u001b[0m \u001b[0mnumpy\u001b[0m \u001b[0;32mas\u001b[0m \u001b[0mnp\u001b[0m\u001b[0;34m\u001b[0m\u001b[0;34m\u001b[0m\u001b[0m\n\u001b[0;32m----> 3\u001b[0;31m \u001b[0;32mimport\u001b[0m \u001b[0mmatplotlib\u001b[0m\u001b[0;34m.\u001b[0m\u001b[0mpyplot\u001b[0m \u001b[0;32mas\u001b[0m \u001b[0mplt\u001b[0m\u001b[0;34m\u001b[0m\u001b[0;34m\u001b[0m\u001b[0m\n\u001b[0m\u001b[1;32m      4\u001b[0m \u001b[0;32mimport\u001b[0m \u001b[0mseaborn\u001b[0m \u001b[0;32mas\u001b[0m \u001b[0msns\u001b[0m\u001b[0;34m\u001b[0m\u001b[0;34m\u001b[0m\u001b[0m\n",
      "\u001b[0;32m~/.local/lib/python3.8/site-packages/matplotlib/__init__.py\u001b[0m in \u001b[0;36m<module>\u001b[0;34m\u001b[0m\n\u001b[1;32m    105\u001b[0m \u001b[0;31m# cbook must import matplotlib only within function\u001b[0m\u001b[0;34m\u001b[0m\u001b[0;34m\u001b[0m\u001b[0;34m\u001b[0m\u001b[0m\n\u001b[1;32m    106\u001b[0m \u001b[0;31m# definitions, so it is safe to import from it here.\u001b[0m\u001b[0;34m\u001b[0m\u001b[0;34m\u001b[0m\u001b[0;34m\u001b[0m\u001b[0m\n\u001b[0;32m--> 107\u001b[0;31m \u001b[0;32mfrom\u001b[0m \u001b[0;34m.\u001b[0m \u001b[0;32mimport\u001b[0m \u001b[0m_api\u001b[0m\u001b[0;34m,\u001b[0m \u001b[0mcbook\u001b[0m\u001b[0;34m,\u001b[0m \u001b[0mdocstring\u001b[0m\u001b[0;34m,\u001b[0m \u001b[0mrcsetup\u001b[0m\u001b[0;34m\u001b[0m\u001b[0;34m\u001b[0m\u001b[0m\n\u001b[0m\u001b[1;32m    108\u001b[0m \u001b[0;32mfrom\u001b[0m \u001b[0mmatplotlib\u001b[0m\u001b[0;34m.\u001b[0m\u001b[0mcbook\u001b[0m \u001b[0;32mimport\u001b[0m \u001b[0mMatplotlibDeprecationWarning\u001b[0m\u001b[0;34m,\u001b[0m \u001b[0msanitize_sequence\u001b[0m\u001b[0;34m\u001b[0m\u001b[0;34m\u001b[0m\u001b[0m\n\u001b[1;32m    109\u001b[0m \u001b[0;32mfrom\u001b[0m \u001b[0mmatplotlib\u001b[0m\u001b[0;34m.\u001b[0m\u001b[0mcbook\u001b[0m \u001b[0;32mimport\u001b[0m \u001b[0mmplDeprecation\u001b[0m  \u001b[0;31m# deprecated\u001b[0m\u001b[0;34m\u001b[0m\u001b[0;34m\u001b[0m\u001b[0m\n",
      "\u001b[0;32m~/.local/lib/python3.8/site-packages/matplotlib/rcsetup.py\u001b[0m in \u001b[0;36m<module>\u001b[0;34m\u001b[0m\n\u001b[1;32m     22\u001b[0m \u001b[0;32mimport\u001b[0m \u001b[0mnumpy\u001b[0m \u001b[0;32mas\u001b[0m \u001b[0mnp\u001b[0m\u001b[0;34m\u001b[0m\u001b[0;34m\u001b[0m\u001b[0m\n\u001b[1;32m     23\u001b[0m \u001b[0;34m\u001b[0m\u001b[0m\n\u001b[0;32m---> 24\u001b[0;31m \u001b[0;32mfrom\u001b[0m \u001b[0mmatplotlib\u001b[0m \u001b[0;32mimport\u001b[0m \u001b[0m_api\u001b[0m\u001b[0;34m,\u001b[0m \u001b[0manimation\u001b[0m\u001b[0;34m,\u001b[0m \u001b[0mcbook\u001b[0m\u001b[0;34m\u001b[0m\u001b[0;34m\u001b[0m\u001b[0m\n\u001b[0m\u001b[1;32m     25\u001b[0m \u001b[0;32mfrom\u001b[0m \u001b[0mmatplotlib\u001b[0m\u001b[0;34m.\u001b[0m\u001b[0mcbook\u001b[0m \u001b[0;32mimport\u001b[0m \u001b[0mls_mapper\u001b[0m\u001b[0;34m\u001b[0m\u001b[0;34m\u001b[0m\u001b[0m\n\u001b[1;32m     26\u001b[0m \u001b[0;32mfrom\u001b[0m \u001b[0mmatplotlib\u001b[0m\u001b[0;34m.\u001b[0m\u001b[0mcolors\u001b[0m \u001b[0;32mimport\u001b[0m \u001b[0mColormap\u001b[0m\u001b[0;34m,\u001b[0m \u001b[0mis_color_like\u001b[0m\u001b[0;34m\u001b[0m\u001b[0;34m\u001b[0m\u001b[0m\n",
      "\u001b[0;32m~/.local/lib/python3.8/site-packages/matplotlib/animation.py\u001b[0m in \u001b[0;36m<module>\u001b[0;34m\u001b[0m\n\u001b[1;32m     32\u001b[0m \u001b[0;34m\u001b[0m\u001b[0m\n\u001b[1;32m     33\u001b[0m \u001b[0;32mimport\u001b[0m \u001b[0mnumpy\u001b[0m \u001b[0;32mas\u001b[0m \u001b[0mnp\u001b[0m\u001b[0;34m\u001b[0m\u001b[0;34m\u001b[0m\u001b[0m\n\u001b[0;32m---> 34\u001b[0;31m \u001b[0;32mfrom\u001b[0m \u001b[0mPIL\u001b[0m \u001b[0;32mimport\u001b[0m \u001b[0mImage\u001b[0m\u001b[0;34m\u001b[0m\u001b[0;34m\u001b[0m\u001b[0m\n\u001b[0m\u001b[1;32m     35\u001b[0m \u001b[0;34m\u001b[0m\u001b[0m\n\u001b[1;32m     36\u001b[0m \u001b[0;32mimport\u001b[0m \u001b[0mmatplotlib\u001b[0m \u001b[0;32mas\u001b[0m \u001b[0mmpl\u001b[0m\u001b[0;34m\u001b[0m\u001b[0;34m\u001b[0m\u001b[0m\n",
      "\u001b[0;31mModuleNotFoundError\u001b[0m: No module named 'PIL'"
     ]
    }
   ],
   "source": [
    "import pandas as pd \n",
    "import numpy as np\n",
    "import matplotlib.pyplot as plt\n",
    "import seaborn as sns\n"
   ]
  },
  {
   "cell_type": "markdown",
   "id": "3f8301b6",
   "metadata": {},
   "source": [
    "## Importing Excel data "
   ]
  },
  {
   "cell_type": "code",
   "execution_count": null,
   "id": "21d7fc21",
   "metadata": {},
   "outputs": [],
   "source": [
    "train_data = pd.read_csv('airlines_dataset.csv')"
   ]
  },
  {
   "cell_type": "code",
   "execution_count": null,
   "id": "7ef959ca",
   "metadata": {},
   "outputs": [],
   "source": [
    "train_data.head()"
   ]
  },
  {
   "cell_type": "markdown",
   "id": "c4153d77",
   "metadata": {},
   "source": [
    "## Shape of dataframe"
   ]
  },
  {
   "cell_type": "code",
   "execution_count": null,
   "id": "9f6e3599",
   "metadata": {},
   "outputs": [],
   "source": [
    "train_data.shape"
   ]
  },
  {
   "cell_type": "markdown",
   "id": "6ad60bfa",
   "metadata": {},
   "source": [
    "## Missing Values"
   ]
  },
  {
   "cell_type": "code",
   "execution_count": null,
   "id": "f0b5806a",
   "metadata": {},
   "outputs": [],
   "source": [
    "train_data.isnull().any()"
   ]
  },
  {
   "cell_type": "code",
   "execution_count": null,
   "id": "83e0e612",
   "metadata": {},
   "outputs": [],
   "source": [
    "train_data.isna().sum()"
   ]
  },
  {
   "cell_type": "markdown",
   "id": "8c7cec2d",
   "metadata": {},
   "source": [
    "## Droping missing Values"
   ]
  },
  {
   "cell_type": "code",
   "execution_count": null,
   "id": "4fbc9f94",
   "metadata": {},
   "outputs": [],
   "source": [
    "train_data.dropna(inplace = True)"
   ]
  },
  {
   "cell_type": "code",
   "execution_count": null,
   "id": "aa48c4b1",
   "metadata": {},
   "outputs": [],
   "source": [
    "train_data.isna().sum() ## if there any missing values"
   ]
  },
  {
   "cell_type": "markdown",
   "id": "aa31278b",
   "metadata": {},
   "source": [
    "## Types of feature in our dataframe "
   ]
  },
  {
   "cell_type": "code",
   "execution_count": null,
   "id": "b38f6970",
   "metadata": {},
   "outputs": [],
   "source": [
    "train_data.dtypes"
   ]
  },
  {
   "cell_type": "markdown",
   "id": "1f56d28f",
   "metadata": {},
   "source": [
    "## changing columns which is object to Date Time "
   ]
  },
  {
   "cell_type": "code",
   "execution_count": null,
   "id": "097950aa",
   "metadata": {},
   "outputs": [],
   "source": [
    "def change_to_datetime(column):\n",
    "    train_data[column] = pd.to_datetime(train_data[column])"
   ]
  },
  {
   "cell_type": "code",
   "execution_count": null,
   "id": "bcaeca42",
   "metadata": {},
   "outputs": [],
   "source": [
    "train_data.columns"
   ]
  },
  {
   "cell_type": "code",
   "execution_count": null,
   "id": "aff991be",
   "metadata": {},
   "outputs": [],
   "source": [
    "for i in ['Date_of_Journey', 'Dep_Time', 'Arrival_Time']:\n",
    "    change_to_datetime(i)"
   ]
  },
  {
   "cell_type": "code",
   "execution_count": null,
   "id": "ab239ce3",
   "metadata": {},
   "outputs": [],
   "source": [
    "train_data.dtypes"
   ]
  },
  {
   "cell_type": "code",
   "execution_count": null,
   "id": "dbea7077",
   "metadata": {},
   "outputs": [],
   "source": [
    "train_data['journey_day'] = train_data['Date_of_Journey'].dt.day\n",
    "train_data['journey_month'] = train_data['Date_of_Journey'].dt.month"
   ]
  },
  {
   "cell_type": "code",
   "execution_count": null,
   "id": "1134b7e4",
   "metadata": {},
   "outputs": [],
   "source": [
    "train_data.head()"
   ]
  },
  {
   "cell_type": "code",
   "execution_count": null,
   "id": "15de5a05",
   "metadata": {},
   "outputs": [],
   "source": [
    "train_data.drop('Date_of_Journey', axis = 1, inplace = True)"
   ]
  },
  {
   "cell_type": "code",
   "execution_count": null,
   "id": "65e5d372",
   "metadata": {},
   "outputs": [],
   "source": [
    "train_data.head()"
   ]
  },
  {
   "cell_type": "markdown",
   "id": "29ed2251",
   "metadata": {},
   "source": [
    "## Extract hour, minute, and drop column "
   ]
  },
  {
   "cell_type": "code",
   "execution_count": null,
   "id": "01ad4914",
   "metadata": {},
   "outputs": [],
   "source": [
    "def extract_hour(df, col):\n",
    "    df[col+'_hour'] = df[col].dt.hour\n",
    "    \n",
    "def extract_minute(df, col):\n",
    "    df[col + '_minute'] = df[col].dt.minute\n",
    "\n",
    "def drop_column(df, col):\n",
    "    df.drop(col, axis = 1, inplace = True)"
   ]
  },
  {
   "cell_type": "code",
   "execution_count": null,
   "id": "2bb88589",
   "metadata": {},
   "outputs": [],
   "source": [
    "extract_hour(train_data, 'Dep_Time')\n",
    "extract_minute(train_data, 'Dep_Time')\n",
    "\n",
    "extract_hour(train_data, 'Arrival_Time')\n",
    "extract_minute(train_data, 'Arrival_Time')"
   ]
  },
  {
   "cell_type": "code",
   "execution_count": null,
   "id": "1b66c40b",
   "metadata": {},
   "outputs": [],
   "source": [
    "drop_column(train_data, 'Dep_Time')\n",
    "drop_column(train_data, 'Arrival_Time')"
   ]
  },
  {
   "cell_type": "code",
   "execution_count": null,
   "id": "af18207e",
   "metadata": {},
   "outputs": [],
   "source": [
    "train_data.head()"
   ]
  },
  {
   "cell_type": "code",
   "execution_count": null,
   "id": "2a243b43",
   "metadata": {},
   "outputs": [],
   "source": [
    "duration = list(train_data['Duration'])"
   ]
  },
  {
   "cell_type": "code",
   "execution_count": null,
   "id": "25ae711e",
   "metadata": {},
   "outputs": [],
   "source": [
    "for i in range(len(duration)):\n",
    "    if len(duration[i].split(' ')) == 2:\n",
    "        pass\n",
    "    else:\n",
    "        if 'h' in duration[i]:\n",
    "            duration[i] = duration[i] + ' 0m'\n",
    "        else:\n",
    "            duration[i] = '0h ' + duration[i] "
   ]
  },
  {
   "cell_type": "code",
   "execution_count": null,
   "id": "c6f5ecad",
   "metadata": {},
   "outputs": [],
   "source": [
    "train_data['Duration'] = duration"
   ]
  },
  {
   "cell_type": "code",
   "execution_count": null,
   "id": "71071b52",
   "metadata": {},
   "outputs": [],
   "source": [
    "train_data.head()"
   ]
  },
  {
   "cell_type": "markdown",
   "id": "68af616b",
   "metadata": {},
   "source": [
    "## Separate_hour_minute_from_duration"
   ]
  },
  {
   "cell_type": "code",
   "execution_count": null,
   "id": "648b6028",
   "metadata": {},
   "outputs": [],
   "source": [
    "def hour(x):\n",
    "    return x.split(' ')[0][:-1]\n",
    "\n",
    "def minute(x):\n",
    "    return x.split(' ')[1][:-1]"
   ]
  },
  {
   "cell_type": "code",
   "execution_count": null,
   "id": "67e1701a",
   "metadata": {},
   "outputs": [],
   "source": [
    "train_data['Duration_hour'] = train_data['Duration'].apply(hour)\n",
    "train_data['Duration_minute'] = train_data['Duration'].apply(minute)"
   ]
  },
  {
   "cell_type": "code",
   "execution_count": null,
   "id": "0b4b44dd",
   "metadata": {},
   "outputs": [],
   "source": [
    "train_data.head(1)"
   ]
  },
  {
   "cell_type": "code",
   "execution_count": null,
   "id": "c9a45fd8",
   "metadata": {},
   "outputs": [],
   "source": [
    "train_data.drop('Duration', axis = 1,  inplace = True)"
   ]
  },
  {
   "cell_type": "code",
   "execution_count": null,
   "id": "aee77d1a",
   "metadata": {},
   "outputs": [],
   "source": [
    "train_data.head(1)"
   ]
  },
  {
   "cell_type": "code",
   "execution_count": null,
   "id": "220b237d",
   "metadata": {},
   "outputs": [],
   "source": [
    "train_data.dtypes"
   ]
  },
  {
   "cell_type": "code",
   "execution_count": null,
   "id": "e9441f16",
   "metadata": {},
   "outputs": [],
   "source": [
    "train_data['Duration_hour'] = train_data['Duration_hour'].astype(int)\n",
    "train_data['Duration_minute'] = train_data['Duration_minute'].astype(int)"
   ]
  },
  {
   "cell_type": "code",
   "execution_count": null,
   "id": "314434f7",
   "metadata": {},
   "outputs": [],
   "source": [
    "train_data.dtypes"
   ]
  },
  {
   "cell_type": "markdown",
   "id": "92a8c3c2",
   "metadata": {},
   "source": [
    "## Fetch Object COlumn"
   ]
  },
  {
   "cell_type": "code",
   "execution_count": null,
   "id": "53092815",
   "metadata": {},
   "outputs": [],
   "source": [
    "cat_col = [col for col in train_data.columns if train_data[col].dtype == 'O']\n",
    "cat_col"
   ]
  },
  {
   "cell_type": "code",
   "execution_count": null,
   "id": "911ba3fe",
   "metadata": {},
   "outputs": [],
   "source": [
    "con_col = [col for col in train_data.columns if train_data[col].dtype != 'O']\n",
    "con_col"
   ]
  },
  {
   "cell_type": "markdown",
   "id": "31db980c",
   "metadata": {},
   "source": [
    "# Handle Categorical data and perforn feature encoding technique"
   ]
  },
  {
   "cell_type": "markdown",
   "id": "3d963a75",
   "metadata": {},
   "source": [
    "<b> Nominal Data </b>: Nominal Data are those data which is basically not in order. For example: The name of country. The country name does not have any hierarchy. \n",
    "\n",
    "For Nominal Data: We have to perform, one hot encoding\n",
    "\n",
    "<b> Ordinal Data </b>: Ordinal Data are those data which have some kind of hierarchy. For example: Good, Better, Best. \n",
    "\n",
    "For Ordinal dadta: We have to perform, label encoding class"
   ]
  },
  {
   "cell_type": "code",
   "execution_count": null,
   "id": "cbda3a52",
   "metadata": {},
   "outputs": [],
   "source": [
    "categorical_data = train_data[cat_col]\n",
    "categorical_data.head()"
   ]
  },
  {
   "cell_type": "code",
   "execution_count": null,
   "id": "f3945e0e",
   "metadata": {
    "scrolled": true
   },
   "outputs": [],
   "source": [
    "categorical_data['Airline'].value_counts()"
   ]
  },
  {
   "cell_type": "markdown",
   "id": "f4de986d",
   "metadata": {},
   "source": [
    "### Perform one hot encoding on Airline Column"
   ]
  },
  {
   "cell_type": "code",
   "execution_count": null,
   "id": "a6ef392a",
   "metadata": {},
   "outputs": [],
   "source": [
    "plt.figure(figsize = (15, 5))\n",
    "sns.boxplot(x = 'Airline', y = 'Price', data = train_data.sort_values('Price', ascending = False))"
   ]
  },
  {
   "cell_type": "code",
   "execution_count": null,
   "id": "e4918e40",
   "metadata": {},
   "outputs": [],
   "source": [
    "plt.figure(figsize = (15, 5))\n",
    "\n",
    "sns.boxplot(x= 'Total_Stops', y = 'Price', data = train_data.sort_values('Price', ascending = False ))"
   ]
  },
  {
   "cell_type": "code",
   "execution_count": null,
   "id": "29bf7b20",
   "metadata": {},
   "outputs": [],
   "source": [
    "Airline = pd.get_dummies(categorical_data['Airline'], drop_first = True)\n",
    "Airline.head()"
   ]
  },
  {
   "cell_type": "markdown",
   "id": "6efa4dce",
   "metadata": {},
   "source": [
    "### Perform One hot encoding in Soruce Column"
   ]
  },
  {
   "cell_type": "code",
   "execution_count": null,
   "id": "da7afeae",
   "metadata": {},
   "outputs": [],
   "source": [
    "categorical_data['Source'].value_counts()"
   ]
  },
  {
   "cell_type": "code",
   "execution_count": null,
   "id": "2c009085",
   "metadata": {},
   "outputs": [],
   "source": [
    "plt.figure(figsize = (15, 5 ))\n",
    "\n",
    "sns.boxplot(x = 'Source', y = 'Price', data = train_data.sort_values('Price', ascending = False))"
   ]
  },
  {
   "cell_type": "code",
   "execution_count": null,
   "id": "5358ecc9",
   "metadata": {},
   "outputs": [],
   "source": [
    "Source = pd.get_dummies(categorical_data['Source'], drop_first = True)\n",
    "Source.head()"
   ]
  },
  {
   "cell_type": "markdown",
   "id": "0fb5a8fb",
   "metadata": {},
   "source": [
    "## Perform One hot encoding in Destination Column"
   ]
  },
  {
   "cell_type": "code",
   "execution_count": null,
   "id": "c24b7e2b",
   "metadata": {},
   "outputs": [],
   "source": [
    "categorical_data['Destination'].value_counts()"
   ]
  },
  {
   "cell_type": "code",
   "execution_count": null,
   "id": "806b21e2",
   "metadata": {},
   "outputs": [],
   "source": [
    "plt.figure(figsize = (15,5))\n",
    "sns.boxplot(x = 'Destination', y = 'Price', data = train_data.sort_values('Price', ascending = False))"
   ]
  },
  {
   "cell_type": "code",
   "execution_count": null,
   "id": "ccd07250",
   "metadata": {},
   "outputs": [],
   "source": [
    "Destination = pd.get_dummies(categorical_data['Destination'], drop_first  = True)\n",
    "Destination.head()"
   ]
  },
  {
   "cell_type": "markdown",
   "id": "76e60113",
   "metadata": {},
   "source": [
    "## Handling Route Column "
   ]
  },
  {
   "cell_type": "code",
   "execution_count": null,
   "id": "f14d3ffd",
   "metadata": {},
   "outputs": [],
   "source": [
    "categorical_data['Route_01'] = categorical_data['Route'].str.split('→').str[0]\n",
    "categorical_data['Route_02'] = categorical_data['Route'].str.split('→').str[1]\n",
    "categorical_data['Route_03'] = categorical_data['Route'].str.split('→').str[2]\n",
    "categorical_data['Route_04'] = categorical_data['Route'].str.split('→').str[3]\n",
    "categorical_data['Route_05'] = categorical_data['Route'].str.split('→').str[4]"
   ]
  },
  {
   "cell_type": "code",
   "execution_count": null,
   "id": "3bcd6783",
   "metadata": {},
   "outputs": [],
   "source": [
    "categorical_data.head()"
   ]
  },
  {
   "cell_type": "code",
   "execution_count": null,
   "id": "bc154b7a",
   "metadata": {
    "scrolled": true
   },
   "outputs": [],
   "source": [
    "categorical_data.drop('Route', axis = 1 , inplace = True)"
   ]
  },
  {
   "cell_type": "code",
   "execution_count": null,
   "id": "799c87bd",
   "metadata": {},
   "outputs": [],
   "source": [
    "categorical_data.head()"
   ]
  },
  {
   "cell_type": "code",
   "execution_count": null,
   "id": "3002d656",
   "metadata": {},
   "outputs": [],
   "source": [
    "categorical_data.isnull().sum()"
   ]
  },
  {
   "cell_type": "code",
   "execution_count": null,
   "id": "1bee360f",
   "metadata": {},
   "outputs": [],
   "source": [
    "for i in ['Route_03', 'Route_04', 'Route_05']:\n",
    "    categorical_data[i].fillna('None', inplace = True)"
   ]
  },
  {
   "cell_type": "code",
   "execution_count": null,
   "id": "d38652f3",
   "metadata": {},
   "outputs": [],
   "source": [
    "categorical_data.isnull().sum()"
   ]
  },
  {
   "cell_type": "code",
   "execution_count": null,
   "id": "3cb68233",
   "metadata": {},
   "outputs": [],
   "source": [
    "categorical_data.head()"
   ]
  },
  {
   "cell_type": "code",
   "execution_count": null,
   "id": "df2bcf59",
   "metadata": {},
   "outputs": [],
   "source": [
    "for i in categorical_data.columns:\n",
    "    print('{} has total {} categories'.format(i, len(categorical_data[i].value_counts())))"
   ]
  },
  {
   "cell_type": "code",
   "execution_count": null,
   "id": "01d24a3d",
   "metadata": {},
   "outputs": [],
   "source": [
    "categorical_data.columns"
   ]
  },
  {
   "cell_type": "code",
   "execution_count": null,
   "id": "195e8f17",
   "metadata": {},
   "outputs": [],
   "source": [
    "from sklearn.preprocessing import LabelEncoder"
   ]
  },
  {
   "cell_type": "code",
   "execution_count": null,
   "id": "ebb12585",
   "metadata": {},
   "outputs": [],
   "source": [
    "encoder = LabelEncoder()"
   ]
  },
  {
   "cell_type": "code",
   "execution_count": null,
   "id": "703109d0",
   "metadata": {},
   "outputs": [],
   "source": [
    "for i in ['Route_01', 'Route_02', 'Route_03', 'Route_04', 'Route_05']:\n",
    "    categorical_data[i] = encoder.fit_transform(categorical_data[i])"
   ]
  },
  {
   "cell_type": "code",
   "execution_count": null,
   "id": "05044c67",
   "metadata": {},
   "outputs": [],
   "source": [
    "categorical_data.head()"
   ]
  },
  {
   "cell_type": "code",
   "execution_count": null,
   "id": "ce21d45b",
   "metadata": {},
   "outputs": [],
   "source": [
    "categorical_data.drop('Additional_Info', inplace = True, axis = 1)"
   ]
  },
  {
   "cell_type": "code",
   "execution_count": null,
   "id": "bec00e82",
   "metadata": {},
   "outputs": [],
   "source": [
    "categorical_data.head()"
   ]
  },
  {
   "cell_type": "code",
   "execution_count": null,
   "id": "db1589de",
   "metadata": {},
   "outputs": [],
   "source": [
    "categorical_data['Total_Stops'].unique()"
   ]
  },
  {
   "cell_type": "code",
   "execution_count": null,
   "id": "a38fefc0",
   "metadata": {},
   "outputs": [],
   "source": [
    "categorical_data['Total_Stops'].value_counts()"
   ]
  },
  {
   "cell_type": "code",
   "execution_count": null,
   "id": "86e7faf8",
   "metadata": {},
   "outputs": [],
   "source": [
    "dict_route = {'non-stop':0, \n",
    "              '2 stops':2, \n",
    "              '1 stop':1, \n",
    "              '3 stops':3, \n",
    "              '4 stops':4 }"
   ]
  },
  {
   "cell_type": "code",
   "execution_count": null,
   "id": "3546ff9c",
   "metadata": {},
   "outputs": [],
   "source": [
    "dict_route"
   ]
  },
  {
   "cell_type": "code",
   "execution_count": null,
   "id": "8a3ede84",
   "metadata": {},
   "outputs": [],
   "source": [
    "categorical_data['Total_Stops'] =  categorical_data['Total_Stops'].map(dict_route)"
   ]
  },
  {
   "cell_type": "code",
   "execution_count": null,
   "id": "49bebcbb",
   "metadata": {},
   "outputs": [],
   "source": [
    "categorical_data.head()"
   ]
  },
  {
   "cell_type": "code",
   "execution_count": null,
   "id": "3cb13da7",
   "metadata": {},
   "outputs": [],
   "source": [
    "categorical_data['Total_Stops'].value_counts()"
   ]
  },
  {
   "cell_type": "code",
   "execution_count": null,
   "id": "a32922bf",
   "metadata": {},
   "outputs": [],
   "source": [
    "train_data = pd.concat([categorical_data, Airline, Source, Destination, train_data[con_col]], axis = 1)"
   ]
  },
  {
   "cell_type": "code",
   "execution_count": null,
   "id": "694171ae",
   "metadata": {},
   "outputs": [],
   "source": [
    "train_data.head()"
   ]
  },
  {
   "cell_type": "code",
   "execution_count": null,
   "id": "c617e00e",
   "metadata": {},
   "outputs": [],
   "source": [
    "train_data.drop(['Airline', 'Source', 'Destination'], axis = 1, inplace = True)"
   ]
  },
  {
   "cell_type": "code",
   "execution_count": null,
   "id": "822f978a",
   "metadata": {},
   "outputs": [],
   "source": [
    "train_data.head()"
   ]
  },
  {
   "cell_type": "markdown",
   "id": "0529f9fe",
   "metadata": {},
   "source": [
    "## To see all the 35 columns "
   ]
  },
  {
   "cell_type": "code",
   "execution_count": null,
   "id": "378c7334",
   "metadata": {},
   "outputs": [],
   "source": [
    "pd.set_option('display.max_columns', 35)"
   ]
  },
  {
   "cell_type": "code",
   "execution_count": null,
   "id": "bbdc5102",
   "metadata": {},
   "outputs": [],
   "source": [
    "train_data.head()"
   ]
  },
  {
   "cell_type": "markdown",
   "id": "b5f79c5d",
   "metadata": {},
   "source": [
    "## Outlier Detection and outlier imputation if available in our data"
   ]
  },
  {
   "cell_type": "code",
   "execution_count": null,
   "id": "c60290f4",
   "metadata": {},
   "outputs": [],
   "source": [
    "def plot(df, col):\n",
    "    fig,(ax1,ax2) = plt.subplots(2,1)\n",
    "    sns.distplot(df[col], ax = ax1)\n",
    "    sns.boxplot(df[col], ax = ax2)"
   ]
  },
  {
   "cell_type": "code",
   "execution_count": null,
   "id": "7f3b696b",
   "metadata": {},
   "outputs": [],
   "source": [
    "plot(train_data, 'Price')"
   ]
  },
  {
   "cell_type": "code",
   "execution_count": null,
   "id": "5f3b6453",
   "metadata": {},
   "outputs": [],
   "source": [
    "train_data['Price'] = np.where(train_data['Price'] >= 40000, train_data['Price'].median(),train_data['Price'])"
   ]
  },
  {
   "cell_type": "code",
   "execution_count": null,
   "id": "4560d15e",
   "metadata": {},
   "outputs": [],
   "source": [
    "plot(train_data, 'Price')"
   ]
  },
  {
   "cell_type": "markdown",
   "id": "4bc11af5",
   "metadata": {},
   "source": [
    "## Separate independent variables and Dependent Vararibles"
   ]
  },
  {
   "cell_type": "code",
   "execution_count": null,
   "id": "fa9ddb6a",
   "metadata": {},
   "outputs": [],
   "source": [
    "X_data = train_data.drop('Price', axis = 1)\n",
    "X_data.head()"
   ]
  },
  {
   "cell_type": "code",
   "execution_count": null,
   "id": "591683a4",
   "metadata": {},
   "outputs": [],
   "source": [
    "y_data = train_data['Price']"
   ]
  },
  {
   "cell_type": "code",
   "execution_count": null,
   "id": "70186a6c",
   "metadata": {},
   "outputs": [],
   "source": [
    "y_data.head()"
   ]
  },
  {
   "cell_type": "markdown",
   "id": "b09079c5",
   "metadata": {},
   "source": [
    "## Apply Feature Selection on Data "
   ]
  },
  {
   "cell_type": "code",
   "execution_count": null,
   "id": "0acb2996",
   "metadata": {},
   "outputs": [],
   "source": [
    "from sklearn.feature_selection import mutual_info_classif"
   ]
  },
  {
   "cell_type": "code",
   "execution_count": null,
   "id": "7b553ab7",
   "metadata": {},
   "outputs": [],
   "source": [
    "mic = mutual_info_classif(X_data, y_data)\n",
    "mic"
   ]
  },
  {
   "cell_type": "code",
   "execution_count": null,
   "id": "09d70ab7",
   "metadata": {},
   "outputs": [],
   "source": [
    "imp = pd.DataFrame(mic, index = X_data.columns)\n",
    "imp"
   ]
  },
  {
   "cell_type": "code",
   "execution_count": null,
   "id": "a788e432",
   "metadata": {},
   "outputs": [],
   "source": [
    "imp.columns = ['Importance']\n",
    "imp.sort_values(by = 'Importance', ascending = False )"
   ]
  },
  {
   "cell_type": "markdown",
   "id": "17dc6ae6",
   "metadata": {},
   "source": [
    "## Applying Random Forest on Data and Automate Predictions "
   ]
  },
  {
   "cell_type": "code",
   "execution_count": null,
   "id": "94cbbe37",
   "metadata": {},
   "outputs": [],
   "source": [
    "from sklearn.model_selection import train_test_split"
   ]
  },
  {
   "cell_type": "code",
   "execution_count": null,
   "id": "b3bdfd59",
   "metadata": {},
   "outputs": [],
   "source": [
    "X_train, X_test, y_train, y_test = train_test_split(X_data, y_data, test_size = 0.2, \n",
    "                                                    train_size = 0.8, random_state = 70311)"
   ]
  },
  {
   "cell_type": "code",
   "execution_count": null,
   "id": "3a3a05fc",
   "metadata": {},
   "outputs": [],
   "source": [
    "from sklearn import metrics\n",
    "import pickle\n",
    "import os\n",
    "\n",
    "def pred(ml_model, dump):\n",
    "    model = ml_model.fit(X_train, y_train)\n",
    "    print('Training Score: {}'.format(model.score(X_train, y_train)))\n",
    "    predictions = model.predict(X_test)\n",
    "    print('Predictions are: {}'.format(predictions))\n",
    "    print('\\n')\n",
    "    \n",
    "    r2_score = metrics.r2_score(y_test, predictions)\n",
    "    print('R2 score is: {}'.format(r2_score))\n",
    "    \n",
    "    MAE = metrics.mean_absolute_error(y_test, predictions)\n",
    "    print('MAE: {}'.format(MAE))\n",
    "    \n",
    "    MSE = metrics.mean_squared_error(y_test, predictions)\n",
    "    print('MSE: {}'.format(MSE))\n",
    "    \n",
    "    rmse = np.sqrt(MAE)\n",
    "    print('MSE: {}'.format(rmse))\n",
    "    sns.distplot(y_test - predictions)\n",
    "    \n",
    "    if dump == 1:\n",
    "        file = open('/home/linus/Documents/sunil_main/Graspcoding/Predict-Fare-of-Airlines-Ticket/saved_model/model.pkl', 'wb')\n",
    "        pickle.dump(model, file)"
   ]
  },
  {
   "cell_type": "code",
   "execution_count": null,
   "id": "41a4c62f",
   "metadata": {},
   "outputs": [],
   "source": [
    "from sklearn.ensemble import RandomForestRegressor"
   ]
  },
  {
   "cell_type": "code",
   "execution_count": null,
   "id": "6c266ae3",
   "metadata": {},
   "outputs": [],
   "source": [
    "pred(RandomForestRegressor(), 1)"
   ]
  },
  {
   "cell_type": "markdown",
   "id": "478d3827",
   "metadata": {},
   "source": [
    "## Play with multiple Algorithm"
   ]
  },
  {
   "cell_type": "code",
   "execution_count": null,
   "id": "30a65d40",
   "metadata": {},
   "outputs": [],
   "source": [
    "from sklearn.linear_model import LinearRegression\n",
    "from sklearn.neighbors import KNeighborsClassifier\n",
    "from sklearn.tree import DecisionTreeRegressor"
   ]
  },
  {
   "cell_type": "code",
   "execution_count": null,
   "id": "03d64a09",
   "metadata": {},
   "outputs": [],
   "source": [
    "pred(LinearRegression(), 0)"
   ]
  },
  {
   "cell_type": "code",
   "execution_count": null,
   "id": "44b986ae",
   "metadata": {},
   "outputs": [],
   "source": [
    "pred(DecisionTreeRegressor(), 0)"
   ]
  },
  {
   "cell_type": "code",
   "execution_count": null,
   "id": "29509bbd",
   "metadata": {},
   "outputs": [],
   "source": [
    "pred(KNeighborsClassifier(), 0)"
   ]
  },
  {
   "cell_type": "markdown",
   "id": "f2f20dd8",
   "metadata": {},
   "source": [
    "## Cross Validate our Model"
   ]
  },
  {
   "cell_type": "code",
   "execution_count": null,
   "id": "bb7f6e91",
   "metadata": {},
   "outputs": [],
   "source": [
    "from sklearn.model_selection import RandomizedSearchCV"
   ]
  },
  {
   "cell_type": "code",
   "execution_count": null,
   "id": "48190595",
   "metadata": {},
   "outputs": [],
   "source": [
    "n_estimators = [int(x) for x in np.linspace(start = 100, stop = 1200, num = 6)]\n",
    "max_depth = [int(x) for x in np.linspace(start = 5, stop = 30, num = 4)]"
   ]
  },
  {
   "cell_type": "code",
   "execution_count": null,
   "id": "0cb5fc75",
   "metadata": {},
   "outputs": [],
   "source": [
    "random_grid = {\n",
    "    'n_estimators' : n_estimators,\n",
    "    'max_features': ['auto', 'sqrt'],\n",
    "    'max_depth' : max_depth,\n",
    "    'min_samples_split': [5, 10, 10, 100]\n",
    "}"
   ]
  },
  {
   "cell_type": "code",
   "execution_count": null,
   "id": "1e19c9cb",
   "metadata": {},
   "outputs": [],
   "source": [
    "random_grid"
   ]
  },
  {
   "cell_type": "code",
   "execution_count": null,
   "id": "cddbaa56",
   "metadata": {},
   "outputs": [],
   "source": [
    "from sklearn.ensemble import RandomForestRegressor\n",
    "random_forest_model = RandomForestRegressor()\n",
    "\n",
    "rf_random = RandomizedSearchCV(estimator = random_forest_model, param_distributions = random_grid, cv = 3, verbose = 2,\n",
    "                  n_jobs = -1 )"
   ]
  },
  {
   "cell_type": "code",
   "execution_count": null,
   "id": "ec8bd986",
   "metadata": {},
   "outputs": [],
   "source": [
    "rf_random.fit(X_train, y_train)"
   ]
  },
  {
   "cell_type": "code",
   "execution_count": null,
   "id": "71734fd3",
   "metadata": {},
   "outputs": [],
   "source": [
    "rf_random.best_params_"
   ]
  },
  {
   "cell_type": "code",
   "execution_count": null,
   "id": "fa333b2f",
   "metadata": {},
   "outputs": [],
   "source": [
    "predictions = rf_random.predict(X_test)"
   ]
  },
  {
   "cell_type": "code",
   "execution_count": null,
   "id": "5cb10667",
   "metadata": {},
   "outputs": [],
   "source": [
    "predictions"
   ]
  },
  {
   "cell_type": "code",
   "execution_count": null,
   "id": "d803ec4c",
   "metadata": {},
   "outputs": [],
   "source": [
    "sns.distplot(y_test - predictions)"
   ]
  },
  {
   "cell_type": "code",
   "execution_count": null,
   "id": "f7a223ad",
   "metadata": {},
   "outputs": [],
   "source": [
    "metrics.r2_score(y_test, predictions)"
   ]
  },
  {
   "cell_type": "code",
   "execution_count": null,
   "id": "dff18a23",
   "metadata": {},
   "outputs": [],
   "source": [
    "file = open('/home/linus/Documents/sunil_main/Graspcoding/Predict-Fare-of-Airlines-Ticket/saved_model/model.pkl', 'wb')\n"
   ]
  },
  {
   "cell_type": "code",
   "execution_count": null,
   "id": "0bc554a7",
   "metadata": {},
   "outputs": [],
   "source": [
    "pickle.dump(rf_random, file)"
   ]
  },
  {
   "cell_type": "markdown",
   "id": "bed1fa17",
   "metadata": {},
   "source": [
    "## Loading the dumped model"
   ]
  },
  {
   "cell_type": "code",
   "execution_count": null,
   "id": "31abf6e6",
   "metadata": {},
   "outputs": [],
   "source": [
    "dumped_model = open('/home/linus/Documents/sunil_main/Graspcoding/Predict-Fare-of-Airlines-Ticket/saved_model/model.pkl', 'rb')\n",
    "\n",
    "rf_dumped_model = pickle.load(dumped_model)"
   ]
  },
  {
   "cell_type": "code",
   "execution_count": null,
   "id": "3c558aec",
   "metadata": {},
   "outputs": [],
   "source": [
    "random_forest_prediction = rf_dumped_model.predict(X_test)"
   ]
  },
  {
   "cell_type": "code",
   "execution_count": null,
   "id": "617e586d",
   "metadata": {},
   "outputs": [],
   "source": [
    "metrics.r2_score(y_test, predictions)"
   ]
  },
  {
   "cell_type": "code",
   "execution_count": null,
   "id": "5d64eafd",
   "metadata": {},
   "outputs": [],
   "source": []
  }
 ],
 "metadata": {
  "kernelspec": {
   "display_name": "Python 3",
   "language": "python",
   "name": "python3"
  },
  "language_info": {
   "codemirror_mode": {
    "name": "ipython",
    "version": 3
   },
   "file_extension": ".py",
   "mimetype": "text/x-python",
   "name": "python",
   "nbconvert_exporter": "python",
   "pygments_lexer": "ipython3",
   "version": "3.8.10"
  }
 },
 "nbformat": 4,
 "nbformat_minor": 5
}
